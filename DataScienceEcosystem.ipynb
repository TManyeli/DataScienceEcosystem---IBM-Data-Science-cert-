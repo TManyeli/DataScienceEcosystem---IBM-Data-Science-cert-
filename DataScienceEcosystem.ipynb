{
 "cells": [
  {
   "cell_type": "markdown",
   "id": "0ec33c52-d5b4-4d39-bdc7-fda3c8867075",
   "metadata": {},
   "source": [
    "# Data Science Tools and Ecosystem"
   ]
  },
  {
   "cell_type": "markdown",
   "id": "9077de87-7010-498c-bc0f-e3031df01d6f",
   "metadata": {},
   "source": [
    "In this notebook, Data Science Tools and Ecosystem are summarized"
   ]
  },
  {
   "cell_type": "markdown",
   "id": "1bb04c76-07dd-46d4-99fd-4466707f5044",
   "metadata": {},
   "source": [
    "**Objectives:**\n",
    "- R\n",
    "- python\n",
    "- Scala\n",
    "- SQL"
   ]
  },
  {
   "cell_type": "markdown",
   "id": "5bd0c074-1b3d-498b-8cfe-8a8274484608",
   "metadata": {},
   "source": [
    "Some of the popular languages that Data Scientists use are:\n",
    "1. python\n",
    "2. SQL\n",
    "3. Scala\n",
    "4. Julia"
   ]
  },
  {
   "cell_type": "markdown",
   "id": "1c069ffa-5d75-4941-96c6-cd387632ade4",
   "metadata": {},
   "source": [
    "Some of the commonly used libraries used by Data Scientists include:\n",
    "1. pandas\n",
    "2. numpy\n",
    "3. matplotlib\n",
    "4. scipy"
   ]
  },
  {
   "attachments": {},
   "cell_type": "markdown",
   "id": "c70862ed-ea93-469c-86b6-7ec55490faf2",
   "metadata": {},
   "source": [
    "Data Science Tools\n",
    "\n",
    "| Data Science Tools       |\n",
    "|---------------------------|\n",
    "| Jupyter Notebook          |\n",
    "| RStudio                   |\n",
    "| Apache Zeppelin           |\n"
   ]
  },
  {
   "cell_type": "markdown",
   "id": "24a1ef2a-7ef0-4f7e-81b5-4a06bb80d4db",
   "metadata": {},
   "source": [
    "### Below are a few examples of evaluating arithmetic expressions in Python:"
   ]
  },
  {
   "cell_type": "code",
   "execution_count": 1,
   "id": "e6e1a47b-d237-4752-9c29-a8c23e1ea34a",
   "metadata": {},
   "outputs": [
    {
     "data": {
      "text/plain": [
       "17"
      ]
     },
     "execution_count": 1,
     "metadata": {},
     "output_type": "execute_result"
    }
   ],
   "source": [
    "# This a simple arithmetic expression to mutiply then add integers\n",
    "(3*4)+5"
   ]
  },
  {
   "cell_type": "code",
   "execution_count": 2,
   "id": "515026c5-319d-43e7-9a8c-5df720697246",
   "metadata": {},
   "outputs": [
    {
     "data": {
      "text/plain": [
       "3.3333333333333335"
      ]
     },
     "execution_count": 2,
     "metadata": {},
     "output_type": "execute_result"
    }
   ],
   "source": [
    "# This will convert 200 minutes to hours by diving by 60\n",
    "200/60"
   ]
  },
  {
   "cell_type": "markdown",
   "id": "59754775-3115-4ee2-9b43-36721c14c893",
   "metadata": {},
   "source": [
    "## Author:\n",
    "\n",
    "Thabo Manyeli"
   ]
  }
 ],
 "metadata": {
  "kernelspec": {
   "display_name": "Python 3 (ipykernel)",
   "language": "python",
   "name": "python3"
  },
  "language_info": {
   "codemirror_mode": {
    "name": "ipython",
    "version": 3
   },
   "file_extension": ".py",
   "mimetype": "text/x-python",
   "name": "python",
   "nbconvert_exporter": "python",
   "pygments_lexer": "ipython3",
   "version": "3.13.0"
  }
 },
 "nbformat": 4,
 "nbformat_minor": 5
}
